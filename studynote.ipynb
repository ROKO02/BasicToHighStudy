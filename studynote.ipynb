{
 "cells": [
  {
   "cell_type": "markdown",
   "id": "7248b02d-b28d-4c1a-a8ec-91016c73a845",
   "metadata": {},
   "source": [
    "2024.12.26\n",
    "\n",
    "is와 ==의 차이점\n",
    "\n",
    "== - 값을 비교\n",
    "is - 참조를 비교\n",
    "\n",
    "is - 값과 참조를 비교함\n",
    "\n",
    "ex)\n",
    "\n",
    ")값, 참조 다름 \r\n",
    "a = 1\r\n",
    "b = 2\r\n",
    "\r\n",
    ")값, 참조 같음\r\n",
    "c = ['block', 'dmask']\r\n",
    "d = c\r\n",
    "\r\n",
    ")참조만 다름\r\n",
    "e = [1, 2, 3]\r\n",
    "f = [1, 2, 3]\r\n"
   ]
  },
  {
   "cell_type": "markdown",
   "id": "2f0f5ff3-9ac9-4a49-a54e-5c1304968f59",
   "metadata": {},
   "source": [
    "swapcase : 문자열의 대/소문자 변환 함수\n",
    "\n",
    "- str = str.swapcase() -> X\n",
    "- print(str.swapcase()) -> O\n",
    "\n",
    "(2024.12.26 프로그래머스 파이썬 코딩 기초트레이닝 )"
   ]
  },
  {
   "cell_type": "code",
   "execution_count": null,
   "id": "c5d75200-691c-473b-966b-8cd83cff1ff3",
   "metadata": {},
   "outputs": [],
   "source": []
  },
  {
   "cell_type": "code",
   "execution_count": null,
   "id": "ff103b2e-a2ed-4450-b1b1-1681b860c976",
   "metadata": {},
   "outputs": [],
   "source": []
  },
  {
   "cell_type": "code",
   "execution_count": null,
   "id": "95f1249a-c8c9-47c3-a10e-e5200843bf7f",
   "metadata": {},
   "outputs": [],
   "source": []
  },
  {
   "cell_type": "code",
   "execution_count": null,
   "id": "0be4f1a3-36a4-4d99-9e6b-42417e812358",
   "metadata": {},
   "outputs": [],
   "source": []
  },
  {
   "cell_type": "code",
   "execution_count": null,
   "id": "8bb5edfd-e6b5-441f-b025-8b1f0afa3a39",
   "metadata": {},
   "outputs": [],
   "source": []
  },
  {
   "cell_type": "code",
   "execution_count": null,
   "id": "8a12c8ea-8d27-463b-aa12-b1000f09ac53",
   "metadata": {},
   "outputs": [],
   "source": []
  },
  {
   "cell_type": "code",
   "execution_count": null,
   "id": "5f567468-c2e4-46e7-a2a3-8476fdfd85bd",
   "metadata": {},
   "outputs": [],
   "source": []
  },
  {
   "cell_type": "code",
   "execution_count": null,
   "id": "f08d2132-7101-4fd6-8f1a-5cf768834815",
   "metadata": {},
   "outputs": [],
   "source": []
  },
  {
   "cell_type": "code",
   "execution_count": null,
   "id": "d94759ce-dc45-423b-948e-b79070eaff50",
   "metadata": {},
   "outputs": [],
   "source": []
  }
 ],
 "metadata": {
  "kernelspec": {
   "display_name": "Python 3 (ipykernel)",
   "language": "python",
   "name": "python3"
  },
  "language_info": {
   "codemirror_mode": {
    "name": "ipython",
    "version": 3
   },
   "file_extension": ".py",
   "mimetype": "text/x-python",
   "name": "python",
   "nbconvert_exporter": "python",
   "pygments_lexer": "ipython3",
   "version": "3.12.1"
  }
 },
 "nbformat": 4,
 "nbformat_minor": 5
}
