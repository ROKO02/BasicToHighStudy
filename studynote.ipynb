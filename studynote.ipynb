{
 "cells": [
  {
   "cell_type": "markdown",
   "id": "d3e8b377-e8ed-402c-8d78-87c85f5b76ee",
   "metadata": {},
   "source": [
    "<h3>\n",
    "2024.12.26\n",
    "</h3>\n",
    "<div>is와 ==의 차이점</div>\n",
    "\n",
    "<p>\n",
    "<p>== - 값을 비교</p>\n",
    "<p>is - 참조를 비교</p>\n",
    "</p>\n",
    "\n",
    "<div>is - 값과 참조를 비교함</div>"
   ]
  },
  {
   "cell_type": "markdown",
   "id": "1a570cae-d370-4eb7-9a70-a1dce696eb90",
   "metadata": {},
   "source": [
    ")값, 참조 다름 \n",
    "```python\n",
    "a = 1\n",
    "b = 2\n",
    "```\n",
    ")값, 참조 같음\n",
    "```python\n",
    "c = ['block', 'dmask']\n",
    "d = c\n",
    "```\n",
    "\n",
    ")참조만 다름\n",
    "```python\n",
    "e = [1, 2, 3]\n",
    "f = [1, 2, 3]\n",
    "```"
   ]
  },
  {
   "cell_type": "markdown",
   "id": "7248b02d-b28d-4c1a-a8ec-91016c73a845",
   "metadata": {},
   "source": [
    "swapcase : 문자열의 대/소문자 변환 함수\n",
    "\n",
    "- str = str.swapcase() -> X\n",
    "- print(str.swapcase()) -> O[1, 2, 3]\n",
    "\n",
    "빈 문자열과 빈 배열\n",
    "```python\n",
    "    if n == \"\":\n",
    "\n",
    "    if not n:\n",
    "    if len(n) == 0:\n",
    "```\r\n"
   ]
  },
  {
   "cell_type": "markdown",
   "id": "2f0f5ff3-9ac9-4a49-a54e-5c1304968f59",
   "metadata": {},
   "source": [
    "(2024.12.26 프로그래머스 파이썬 코딩 기초트레이닝 )"
   ]
  },
  {
   "cell_type": "markdown",
   "id": "fd95912b-a4fe-45f3-a338-c4069d64821b",
   "metadata": {},
   "source": [
    "===============================================================================================================\n",
    "\n",
    "<h3>2024.12.27</h3>\n",
    "\n",
    "특수문자 쉽게 출력하기"
   ]
  },
  {
   "cell_type": "markdown",
   "id": "f9df1ca3-c472-4f3c-8dd7-99c45e09999e",
   "metadata": {},
   "source": [
    "\"!@#$%^&*(\\'\"<>?:;\"\n",
    "\n",
    "```python\n",
    "print(\"!@#$%^&*(\\\\\\'\\\"<>?:;\")\n",
    "```\n",
    "\n",
    "====================================================\n",
    "\n",
    " ```python\n",
    "print(r'!@#$%^&*(\\'\"<>?:;')\\\n",
    "```"
   ]
  },
  {
   "cell_type": "markdown",
   "id": "350879f0-d710-4841-aca4-20b6a97e3590",
   "metadata": {},
   "source": [
    "print 출력 방법\n",
    "\n",
    "```python\n",
    "print(\"{} + {} = {}\".format(a,b,a+b))\n",
    "```\n",
    "```python\n",
    "print(f\"{a} + {b} = {a + b}\")\n",
    "```"
   ]
  },
  {
   "cell_type": "markdown",
   "id": "f2691006-9b70-49c0-a1bf-8e7204303c88",
   "metadata": {},
   "source": [
    "문자열 합치기\n",
    "1. print(input().strip().replace(' ', ''))\n",
    "2. str1+str2\n",
    "3. print(str1, str2, sep='')"
   ]
  },
  {
   "cell_type": "markdown",
   "id": "349d6ed9-931e-4e72-ba16-af04b279a2d1",
   "metadata": {},
   "source": [
    "===============================================================================================================\n",
    "\n",
    "<h3>2024.12.30</h3>\n",
    "* 문제 풀 때 딕셔너리 활용을 먼저 생각하자\n"
   ]
  },
  {
   "cell_type": "markdown",
   "id": "ab8fe90a-9b2e-40ff-b1b5-bebc16854036",
   "metadata": {},
   "source": [
    "```python\n",
    "def solution(arr, queries):\n",
    "    answer = []\n",
    "    for k in range(len(queries)):\n",
    "        i = queries[k][0]\n",
    "        j = queries[k][1]\n",
    "        arr[i], arr[j] = arr[j], arr[i]\n",
    "```\n",
    "\n",
    "====================================================\n",
    "\n",
    "```python\n",
    "def solution(arr, queries):\n",
    "    for a,b in queries:\n",
    "        arr[a],arr[b]=arr[b],arr[a]\n",
    "    return arr\n",
    "```\n",
    "\n",
    "(프로그래머스 - 수열과 구간 쿼리3)"
   ]
  },
  {
   "cell_type": "markdown",
   "id": "ae54cad2-b1a3-470f-afeb-7e53a76915a7",
   "metadata": {},
   "source": [
    "<h3>2024.12.31</h3>"
   ]
  },
  {
   "cell_type": "markdown",
   "id": "6e907f87-1ebc-4a51-a688-4e450552033d",
   "metadata": {},
   "source": [
    "논리 연산자\n",
    "```python\n",
    "    or, ∨, |\n",
    "\n",
    "    and, ∧, &\n",
    "```"
   ]
  },
  {
   "cell_type": "markdown",
   "id": "35ebd2e1-508a-4a1b-abae-3eeee072f2ec",
   "metadata": {},
   "source": [
    "<h3>2025.01.03</h3>"
   ]
  },
  {
   "cell_type": "markdown",
   "id": "d802ca10-519e-44fa-a633-7595ec5641c4",
   "metadata": {},
   "source": [
    "프로그래머스 - 주사위 게임3\n",
    "\n",
    "* 네 주사위에서 나온 숫자가 모두 p로 같다면 1111 × p점을 얻습니다.\n",
    "* 세 주사위에서 나온 숫자가 p로 같고 나머지 다른 주사위에서 나온 숫자가 q(p ≠ q)라면 (10 × p + q)2 점을 얻습니다.\n",
    "* 주사위가 두 개씩 같은 값이 나오고, 나온 숫자를 각각 p, q(p ≠ q)라고 한다면 (p + q) × |p - q|점을 얻습니다.\n",
    "* 어느 두 주사위에서 나온 숫자가 p로 같고 나머지 두 주사위에서 나온 숫자가 각각 p와 다른 q, r(q ≠ r)이라면 q × r점을 얻습니다.\n",
    "* 네 주사위에 적힌 숫자가 모두 다르다면 나온 숫자 중 가장 작은 숫자 만큼의 점수를 얻습니다."
   ]
  },
  {
   "cell_type": "markdown",
   "id": "7e8ff3b8-f7b5-4904-acca-d44060c145d9",
   "metadata": {},
   "source": [
    "```python\n",
    "def solution(a, b, c, d):\n",
    "    nums = [a, b, c, d]\n",
    "    counts = [nums.count(i) for i in nums]\n",
    "    if max(counts) == 4:\n",
    "        return a * 1111\n",
    "    elif max(counts) == 3:\n",
    "        p = nums[counts.index(3)]\n",
    "        q = nums[counts.index(1)]\n",
    "        return (10 * p + q) ** 2\n",
    "    elif max(counts) == 2:\n",
    "        if min(counts) == 2:\n",
    "            return (a + c) * abs(a - c) if a == b else (a + b) * abs(a - b)\n",
    "        else:\n",
    "            p = nums[counts.index(2)]\n",
    "            return (a * b * c * d) / p**2\n",
    "    else:\n",
    "        return min(nums)\n",
    "```"
   ]
  },
  {
   "cell_type": "markdown",
   "id": "1c1398ae-03bb-4972-ba67-cfc3c476a561",
   "metadata": {},
   "source": [
    "프로그래머스 - 문자열의 뒤의 n글자"
   ]
  },
  {
   "cell_type": "markdown",
   "id": "acf13b4a-6e40-4e3c-a006-19e3aab56128",
   "metadata": {},
   "source": [
    "```python\n",
    "my_string[-n:]\n",
    "```\n",
    "\n",
    "ProgrammerS123,11 -------> grammerS123"
   ]
  },
  {
   "cell_type": "markdown",
   "id": "774812c5-e357-47c6-b564-87fc80afc3db",
   "metadata": {},
   "source": [
    "<h3>2025.01.06</h3>"
   ]
  },
  {
   "cell_type": "markdown",
   "id": "c13e31c7-2d63-496f-b4ca-4bf0064b5edc",
   "metadata": {},
   "source": [
    "```python\n",
    "def solution(my_string, s, e):\r\n",
    "    answer = ''\r\n",
    "    tmp = my_string[s:e+1][::-1]\r\n",
    "    answer = my_string[:s] + tmp + my_string[e+1:]\r\n",
    "    return answer\n",
    "```"
   ]
  },
  {
   "cell_type": "markdown",
   "id": "038fd85e-53d3-487d-8ab6-456dde51d130",
   "metadata": {},
   "source": [
    "문자열 뒤집기\n",
    "\"Progra21Sremm3\", 6, 12 -->\t\"ProgrammerS123\"\n",
    "<div>- 코드</div>\n",
    "<div>특정 부분을 빼와 문자열을 만들고 그 문자열을 역순해준다.</div>\n",
    "<p></p>\n",
    "<div>split() 함수 : 문자열 내부 공백 제거 후 리스트 변환</div>"
   ]
  },
  {
   "cell_type": "markdown",
   "id": "568521b1-37f5-44d6-a941-b6c4b343ec07",
   "metadata": {},
   "source": [
    "2차원 배열 --> 1차원 배열\n",
    "\n",
    "```python\n",
    "lst = sum(answer,[])\n",
    "```"
   ]
  },
  {
   "cell_type": "markdown",
   "id": "573a4028-25fd-4d66-b9fc-1ac9f6ae119f",
   "metadata": {},
   "source": [
    "리스트에서 특정 요소의 첫번째와 마지막 인덱스를 구하고 싶을때\n",
    "```python\n",
    "idx = arr.index(2)\r",
    "ridx = len(arr) - 1 - arr[::-1].index(2)\n",
    "```"
   ]
  },
  {
   "cell_type": "markdown",
   "id": "fb480c67-d24d-4755-9d54-541650d9a948",
   "metadata": {},
   "source": [
    "<h3>2025.01.06</h3>"
   ]
  },
  {
   "cell_type": "markdown",
   "id": "a6bbbf35-6630-4647-8696-6d2a7fb9ad0d",
   "metadata": {},
   "source": [
    "배열 n 간격으로 추출\n",
    "```python\n",
    "lst[::n]\n",
    "```"
   ]
  },
  {
   "cell_type": "markdown",
   "id": "9dcb8d2b-d98d-4b18-be43-7980b43cec69",
   "metadata": {},
   "source": [
    "<div>프로그래머스 - A 강조하기</div>\n",
    "<div>문자열을 먼저 소문자 변환 후 replace 함수를 사용하여 a -> A</div>\n",
    "\n",
    "```python\n",
    "myString.lower().replace('a', 'A')\n",
    "```"
   ]
  },
  {
   "cell_type": "markdown",
   "id": "147599d3-ee00-40fb-a43c-0278b476157e",
   "metadata": {},
   "source": [
    "<h3>2025.01.09</h3>"
   ]
  },
  {
   "cell_type": "markdown",
   "id": "21307e62-71c2-46e6-94d8-5791fa4cc72d",
   "metadata": {},
   "source": [
    "```python\n",
    "myStr = myStr.replace(\"a\", \" \").replace(\"b\", \" \").replace(\"c\", \" \")\n",
    "\n",
    "myStr = myStr.replace(\"a\", \" \")\n",
    "myStr = myStr.replace(\"b\", \" \")\n",
    "myStr = myStr.replace(\"c\", \" \")\n",
    "```\n",
    "\n",
    "배열 마지막 요소를 삭제할 때\n",
    "```python\n",
    "list.pop()\n",
    "`````"
   ]
  },
  {
   "cell_type": "markdown",
   "id": "5a49659e-8c12-4d25-b10d-ad38159de3d0",
   "metadata": {},
   "source": [
    "프로그래머스 - 배열의 길이를 2의 거듭제곱으로 만들기\n",
    "\n",
    "<div>arr의 길이가 2의 정수 거듭제곱이 되도록 arr 뒤에 정수 0을 추가하려고 합니다.</div>\n",
    "<div>arr에 최소한의 개수로 0을 추가한 배열을 return 하는 solution 함수를 작성해 주세요.</div>"
   ]
  },
  {
   "cell_type": "markdown",
   "id": "b1001588-c4ee-40cf-8792-6c9fa3ee0530",
   "metadata": {},
   "source": [
    "```python\n",
    "def solution(arr):\n",
    "    a = 1\n",
    "    b = len(arr)\n",
    "    while a < b:\n",
    "        a *= 2\n",
    "    return arr + [0] * (a-b)\n",
    "```"
   ]
  },
  {
   "cell_type": "markdown",
   "id": "51f34e71-900a-461d-850f-0bebe3b75d0e",
   "metadata": {},
   "source": [
    "```python\n",
    "def solution(arr):\r\n",
    "    answer = arr\r\n",
    "    l = len(arr)\r\n",
    "    i = 0\r\n",
    "    while 1:\r\n",
    "        if l <= 2**i:\r\n",
    "            idx = 2**i - l\r\n",
    "            break\r\n",
    "        i += 1\r\n",
    "    for i in range(idx):\r\n",
    "        answer.append(0)\r\n",
    "    return answer\n",
    "```"
   ]
  },
  {
   "cell_type": "markdown",
   "id": "efd63e08-c702-4952-b16f-1cf0fb7a33f7",
   "metadata": {},
   "source": []
  },
  {
   "cell_type": "markdown",
   "id": "935734b7-41f5-455d-90ba-9f4f02c47f95",
   "metadata": {},
   "source": []
  },
  {
   "cell_type": "markdown",
   "id": "93263fef-024a-4cca-a585-34d0d7c98ec3",
   "metadata": {},
   "source": []
  },
  {
   "cell_type": "markdown",
   "id": "8f7ec0a5-f5b1-4092-b20a-9bf43dccccb4",
   "metadata": {},
   "source": []
  },
  {
   "cell_type": "markdown",
   "id": "13cd8545-50e9-42cc-80e2-b2b4df043212",
   "metadata": {},
   "source": []
  },
  {
   "cell_type": "markdown",
   "id": "cc43d44b-9371-42c4-92bf-331d762defd4",
   "metadata": {},
   "source": []
  },
  {
   "cell_type": "markdown",
   "id": "daa075a8-7152-45ad-957d-f032ecc686f3",
   "metadata": {},
   "source": []
  },
  {
   "cell_type": "markdown",
   "id": "0f51349d-d24a-437a-a490-7d617e460862",
   "metadata": {},
   "source": []
  },
  {
   "cell_type": "markdown",
   "id": "c2c30c1d-a146-4234-9b2a-946507088342",
   "metadata": {},
   "source": []
  }
 ],
 "metadata": {
  "kernelspec": {
   "display_name": "Python 3 (ipykernel)",
   "language": "python",
   "name": "python3"
  },
  "language_info": {
   "codemirror_mode": {
    "name": "ipython",
    "version": 3
   },
   "file_extension": ".py",
   "mimetype": "text/x-python",
   "name": "python",
   "nbconvert_exporter": "python",
   "pygments_lexer": "ipython3",
   "version": "3.12.1"
  }
 },
 "nbformat": 4,
 "nbformat_minor": 5
}
